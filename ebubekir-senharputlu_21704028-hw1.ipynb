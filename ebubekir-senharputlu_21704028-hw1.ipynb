{
 "cells": [
  {
   "cell_type": "code",
   "execution_count": 8,
   "metadata": {},
   "outputs": [
    {
     "name": "stdout",
     "output_type": "stream",
     "text": [
      "enter a number1\n",
      "enter b number2\n",
      "enter c number-24\n",
      "discriminant= 100.0\n",
      "x1= 4.0\n",
      "x2= -6.0\n"
     ]
    }
   ],
   "source": [
    "import math\n",
    "numbera=float(input(\"enter a number\"))\n",
    "numberb=float(input(\"enter b number\"))\n",
    "numberc=float(input(\"enter c number\"))\n",
    "discriminant=float\n",
    "x1=float\n",
    "x2=float\n",
    "discriminant=numberb*numberb-4*numbera*numberc\n",
    "if discriminant<0:\n",
    "    print(\"reel kök yok\")\n",
    "else:\n",
    "    x1=(-numberb+math.sqrt(discriminant))/2*numbera\n",
    "    x2=(-numberb-math.sqrt(discriminant))/2*numbera\n",
    "    print(\"discriminant=\",discriminant)\n",
    "    print(\"x1=\",x1)\n",
    "    print(\"x2=\",x2)\n",
    "    \n"
   ]
  },
  {
   "cell_type": "code",
   "execution_count": null,
   "metadata": {},
   "outputs": [],
   "source": []
  },
  {
   "cell_type": "code",
   "execution_count": null,
   "metadata": {},
   "outputs": [],
   "source": []
  }
 ],
 "metadata": {
  "kernelspec": {
   "display_name": "Python 3",
   "language": "python",
   "name": "python3"
  },
  "language_info": {
   "codemirror_mode": {
    "name": "ipython",
    "version": 3
   },
   "file_extension": ".py",
   "mimetype": "text/x-python",
   "name": "python",
   "nbconvert_exporter": "python",
   "pygments_lexer": "ipython3",
   "version": "3.6.5"
  }
 },
 "nbformat": 4,
 "nbformat_minor": 2
}
