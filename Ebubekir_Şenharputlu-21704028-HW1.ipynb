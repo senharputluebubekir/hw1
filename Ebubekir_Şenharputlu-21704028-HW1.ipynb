{
 "cells": [
  {
   "cell_type": "code",
   "execution_count": 5,
   "metadata": {},
   "outputs": [
    {
     "name": "stdout",
     "output_type": "stream",
     "text": [
      "Enter A number=250\n",
      "Enter B number=570\n",
      "Enter C number=999\n",
      "discriminant= -674100\n",
      "x1= (-71250+102629.49137553007j)\n",
      "x2= (-71250-102629.49137553007j)\n"
     ]
    }
   ],
   "source": [
    "a=int(input(\"Enter A number=\"))\n",
    "b=int(input(\"Enter B number=\"))\n",
    "c=int(input(\"Enter C number=\"))\n",
    "discriminant=b**2-4*a*c\n",
    "x1=(-1*b+discriminant**0.5)/2*a\n",
    "x2=(-1*b-discriminant**0.5)/2*a\n",
    "print(\"discriminant=\",discriminant)\n",
    "print(\"x1=\",x1)\n",
    "print(\"x2=\",x2)"
   ]
  },
  {
   "cell_type": "code",
   "execution_count": null,
   "metadata": {},
   "outputs": [],
   "source": []
  },
  {
   "cell_type": "code",
   "execution_count": null,
   "metadata": {},
   "outputs": [],
   "source": []
  }
 ],
 "metadata": {
  "kernelspec": {
   "display_name": "Python 3",
   "language": "python",
   "name": "python3"
  },
  "language_info": {
   "codemirror_mode": {
    "name": "ipython",
    "version": 3
   },
   "file_extension": ".py",
   "mimetype": "text/x-python",
   "name": "python",
   "nbconvert_exporter": "python",
   "pygments_lexer": "ipython3",
   "version": "3.6.5"
  }
 },
 "nbformat": 4,
 "nbformat_minor": 2
}
